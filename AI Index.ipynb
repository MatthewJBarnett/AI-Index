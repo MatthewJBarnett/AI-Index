{
 "cells": [
  {
   "cell_type": "code",
   "execution_count": 7,
   "metadata": {},
   "outputs": [],
   "source": [
    "import pandas as pd\n",
    "import numpy as np"
   ]
  },
  {
   "cell_type": "code",
   "execution_count": 8,
   "metadata": {},
   "outputs": [],
   "source": [
    "paperswithcode_raw = pd.read_csv('paperswithcode.csv')"
   ]
  },
  {
   "cell_type": "code",
   "execution_count": 20,
   "metadata": {},
   "outputs": [
    {
     "name": "stderr",
     "output_type": "stream",
     "text": [
      "/home/matthew/anaconda3/lib/python3.7/site-packages/pandas/core/series.py:679: RuntimeWarning: invalid value encountered in log\n",
      "  result = getattr(ufunc, method)(*inputs, **kwargs)\n"
     ]
    }
   ],
   "source": [
    "paperswithcode = paperswithcode_raw.dropna(subset=['Accuracy'])\n",
    "paperswithcode = paperswithcode[['category-link', 'benchmark-link', 'Model', 'Accuracy', 'Date']]\n",
    "paperswithcode['category'] = paperswithcode.apply(\n",
    "    lambda row: row['category-link'].split('\\n')[0], axis=1\n",
    "    )\n",
    "paperswithcode = paperswithcode.drop(columns=['category-link'])\n",
    "paperswithcode['Accuracy'] = paperswithcode.apply(\n",
    "    lambda row: row['Accuracy'].replace('%', ''), axis=1\n",
    "    )\n",
    "paperswithcode['neglogerror'] = -np.log(1 - (pd.to_numeric(paperswithcode['Accuracy']) / 100.0))"
   ]
  },
  {
   "cell_type": "code",
   "execution_count": 21,
   "metadata": {},
   "outputs": [
    {
     "data": {
      "text/html": [
       "<div>\n",
       "<style scoped>\n",
       "    .dataframe tbody tr th:only-of-type {\n",
       "        vertical-align: middle;\n",
       "    }\n",
       "\n",
       "    .dataframe tbody tr th {\n",
       "        vertical-align: top;\n",
       "    }\n",
       "\n",
       "    .dataframe thead th {\n",
       "        text-align: right;\n",
       "    }\n",
       "</style>\n",
       "<table border=\"1\" class=\"dataframe\">\n",
       "  <thead>\n",
       "    <tr style=\"text-align: right;\">\n",
       "      <th></th>\n",
       "      <th>benchmark-link</th>\n",
       "      <th>Model</th>\n",
       "      <th>Accuracy</th>\n",
       "      <th>Date</th>\n",
       "      <th>category</th>\n",
       "      <th>neglogerror</th>\n",
       "    </tr>\n",
       "  </thead>\n",
       "  <tbody>\n",
       "    <tr>\n",
       "      <th>0</th>\n",
       "      <td>Stanford Cars (Fine-grained 6 Tasks)</td>\n",
       "      <td>CPG</td>\n",
       "      <td>92.80</td>\n",
       "      <td>▼2019-10-15</td>\n",
       "      <td>Continual Learning</td>\n",
       "      <td>2.631089</td>\n",
       "    </tr>\n",
       "    <tr>\n",
       "      <th>5</th>\n",
       "      <td>MUTAG</td>\n",
       "      <td>WEGL</td>\n",
       "      <td>88.3</td>\n",
       "      <td>▼2020-06-16</td>\n",
       "      <td>Graph Classification</td>\n",
       "      <td>2.145581</td>\n",
       "    </tr>\n",
       "    <tr>\n",
       "      <th>15</th>\n",
       "      <td>HIV-fMRI-77</td>\n",
       "      <td>GIN</td>\n",
       "      <td>52.5</td>\n",
       "      <td>▼2018-10-01</td>\n",
       "      <td>Graph Classification</td>\n",
       "      <td>0.744440</td>\n",
       "    </tr>\n",
       "    <tr>\n",
       "      <th>17</th>\n",
       "      <td>Citeseer</td>\n",
       "      <td>DifNet</td>\n",
       "      <td>72.7</td>\n",
       "      <td>▼2020-01-22</td>\n",
       "      <td>Node Classification</td>\n",
       "      <td>1.298283</td>\n",
       "    </tr>\n",
       "    <tr>\n",
       "      <th>18</th>\n",
       "      <td>MNIST-to-USPS</td>\n",
       "      <td>CyCleGAN (Light-weight Calibrator)</td>\n",
       "      <td>97.1</td>\n",
       "      <td>▼2019-11-28</td>\n",
       "      <td>Domain Adaptation</td>\n",
       "      <td>3.540459</td>\n",
       "    </tr>\n",
       "  </tbody>\n",
       "</table>\n",
       "</div>"
      ],
      "text/plain": [
       "                          benchmark-link                               Model  \\\n",
       "0   Stanford Cars (Fine-grained 6 Tasks)                                 CPG   \n",
       "5                                  MUTAG                                WEGL   \n",
       "15                           HIV-fMRI-77                                 GIN   \n",
       "17                              Citeseer                              DifNet   \n",
       "18                         MNIST-to-USPS  CyCleGAN (Light-weight Calibrator)   \n",
       "\n",
       "   Accuracy         Date              category  neglogerror  \n",
       "0     92.80  ▼2019-10-15    Continual Learning     2.631089  \n",
       "5      88.3  ▼2020-06-16  Graph Classification     2.145581  \n",
       "15     52.5  ▼2018-10-01  Graph Classification     0.744440  \n",
       "17     72.7  ▼2020-01-22   Node Classification     1.298283  \n",
       "18     97.1  ▼2019-11-28     Domain Adaptation     3.540459  "
      ]
     },
     "execution_count": 21,
     "metadata": {},
     "output_type": "execute_result"
    }
   ],
   "source": [
    "paperswithcode.head(5)"
   ]
  },
  {
   "cell_type": "code",
   "execution_count": 17,
   "metadata": {},
   "outputs": [],
   "source": [
    "cv_categories = ['Semantic Segmentation', 'Image Classification']\n",
    "computer_vision = paperswithcode[paperswithcode['category'].isin(cv_categories)]"
   ]
  },
  {
   "cell_type": "code",
   "execution_count": 24,
   "metadata": {},
   "outputs": [
    {
     "data": {
      "text/html": [
       "<div>\n",
       "<style scoped>\n",
       "    .dataframe tbody tr th:only-of-type {\n",
       "        vertical-align: middle;\n",
       "    }\n",
       "\n",
       "    .dataframe tbody tr th {\n",
       "        vertical-align: top;\n",
       "    }\n",
       "\n",
       "    .dataframe thead th {\n",
       "        text-align: right;\n",
       "    }\n",
       "</style>\n",
       "<table border=\"1\" class=\"dataframe\">\n",
       "  <thead>\n",
       "    <tr style=\"text-align: right;\">\n",
       "      <th></th>\n",
       "      <th>benchmark-link</th>\n",
       "      <th>Model</th>\n",
       "      <th>Accuracy</th>\n",
       "      <th>Date</th>\n",
       "      <th>category</th>\n",
       "      <th>neglogerror</th>\n",
       "    </tr>\n",
       "  </thead>\n",
       "  <tbody>\n",
       "    <tr>\n",
       "      <th>29</th>\n",
       "      <td>ImageNet ReaL</td>\n",
       "      <td>BiT-L</td>\n",
       "      <td>90.54</td>\n",
       "      <td>▼2019-12-24</td>\n",
       "      <td>Image Classification</td>\n",
       "      <td>2.358098</td>\n",
       "    </tr>\n",
       "    <tr>\n",
       "      <th>216</th>\n",
       "      <td>MNIST</td>\n",
       "      <td>Branching/Merging CNN + Homogeneous Filter Cap...</td>\n",
       "      <td>99.84</td>\n",
       "      <td>▼2020-01-24</td>\n",
       "      <td>Image Classification</td>\n",
       "      <td>6.437752</td>\n",
       "    </tr>\n",
       "    <tr>\n",
       "      <th>228</th>\n",
       "      <td>EMNIST-Balanced</td>\n",
       "      <td>VGG-5(Spinal FC)</td>\n",
       "      <td>91.05</td>\n",
       "      <td>▼2020-07-07</td>\n",
       "      <td>Image Classification</td>\n",
       "      <td>2.413517</td>\n",
       "    </tr>\n",
       "    <tr>\n",
       "      <th>347</th>\n",
       "      <td>ImageNet ReaL</td>\n",
       "      <td>FixEfficientNet-L2</td>\n",
       "      <td>90.9</td>\n",
       "      <td>▼2020-11-18</td>\n",
       "      <td>Image Classification</td>\n",
       "      <td>2.396896</td>\n",
       "    </tr>\n",
       "    <tr>\n",
       "      <th>358</th>\n",
       "      <td>Flowers-102</td>\n",
       "      <td>CS-Parts</td>\n",
       "      <td>96.9</td>\n",
       "      <td>▼2019-09-16</td>\n",
       "      <td>Image Classification</td>\n",
       "      <td>3.473768</td>\n",
       "    </tr>\n",
       "  </tbody>\n",
       "</table>\n",
       "</div>"
      ],
      "text/plain": [
       "      benchmark-link                                              Model  \\\n",
       "29     ImageNet ReaL                                              BiT-L   \n",
       "216            MNIST  Branching/Merging CNN + Homogeneous Filter Cap...   \n",
       "228  EMNIST-Balanced                                   VGG-5(Spinal FC)   \n",
       "347    ImageNet ReaL                                 FixEfficientNet-L2   \n",
       "358      Flowers-102                                           CS-Parts   \n",
       "\n",
       "    Accuracy         Date              category  neglogerror  \n",
       "29     90.54  ▼2019-12-24  Image Classification     2.358098  \n",
       "216    99.84  ▼2020-01-24  Image Classification     6.437752  \n",
       "228    91.05  ▼2020-07-07  Image Classification     2.413517  \n",
       "347     90.9  ▼2020-11-18  Image Classification     2.396896  \n",
       "358     96.9  ▼2019-09-16  Image Classification     3.473768  "
      ]
     },
     "execution_count": 24,
     "metadata": {},
     "output_type": "execute_result"
    }
   ],
   "source": [
    "computer_vision.head(5)"
   ]
  },
  {
   "cell_type": "code",
   "execution_count": null,
   "metadata": {},
   "outputs": [],
   "source": []
  }
 ],
 "metadata": {
  "kernelspec": {
   "display_name": "Python 3",
   "language": "python",
   "name": "python3"
  },
  "language_info": {
   "codemirror_mode": {
    "name": "ipython",
    "version": 3
   },
   "file_extension": ".py",
   "mimetype": "text/x-python",
   "name": "python",
   "nbconvert_exporter": "python",
   "pygments_lexer": "ipython3",
   "version": "3.7.6"
  }
 },
 "nbformat": 4,
 "nbformat_minor": 4
}
